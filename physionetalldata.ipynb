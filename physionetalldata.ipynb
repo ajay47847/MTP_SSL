{
  "cells": [
    {
      "cell_type": "markdown",
      "metadata": {
        "id": "view-in-github",
        "colab_type": "text"
      },
      "source": [
        "<a href=\"https://colab.research.google.com/github/ajay47847/MTP_SSL/blob/main/physionetalldata.ipynb\" target=\"_parent\"><img src=\"https://colab.research.google.com/assets/colab-badge.svg\" alt=\"Open In Colab\"/></a>"
      ]
    },
    {
      "cell_type": "code",
      "execution_count": null,
      "metadata": {
        "colab": {
          "base_uri": "https://localhost:8080/"
        },
        "id": "l8xFajBab2nb",
        "outputId": "ec3fe4ce-abca-4d0a-ec06-91d7fe7f8a86"
      },
      "outputs": [
        {
          "name": "stdout",
          "output_type": "stream",
          "text": [
            "Mounted at /content/drive\n"
          ]
        }
      ],
      "source": [
        "# Mount Google Drive\n",
        "from google.colab import drive\n",
        "drive.mount('/content/drive')"
      ]
    },
    {
      "cell_type": "code",
      "execution_count": null,
      "metadata": {
        "colab": {
          "background_save": true,
          "referenced_widgets": [
            "2d1f02e23ec94fbaafe5a891a8171a68",
            "318cbbaed1704fe8b1ec8faa91fab701",
            "ffc40aec00594e58b37e71e423ef22b7",
            "c6276263de98402aa600adbb7c5edb95",
            "2e5dc2b263d44c5497093dc711f967ff",
            "ab1a3ee0782f4b9988a65bd1b0fb78b3"
          ]
        },
        "id": "OCST_CEgb0pr",
        "outputId": "81c09918-63fe-4ad8-8caa-9eb01d0c8807"
      },
      "outputs": [
        {
          "name": "stderr",
          "output_type": "stream",
          "text": [
            "/usr/local/lib/python3.10/dist-packages/huggingface_hub/utils/_token.py:99: UserWarning: \n",
            "Error while fetching `HF_TOKEN` secret value from your vault: 'Requesting secret HF_TOKEN timed out. Secrets can only be fetched when running from the Colab UI.'.\n",
            "You are not authenticated with the Hugging Face Hub in this notebook.\n",
            "If the error persists, please let us know by opening an issue on GitHub (https://github.com/huggingface/huggingface_hub/issues/new).\n",
            "  warnings.warn(\n"
          ]
        },
        {
          "data": {
            "application/vnd.jupyter.widget-view+json": {
              "model_id": "2d1f02e23ec94fbaafe5a891a8171a68",
              "version_major": 2,
              "version_minor": 0
            },
            "text/plain": [
              "preprocessor_config.json:   0%|          | 0.00/159 [00:00<?, ?B/s]"
            ]
          },
          "metadata": {},
          "output_type": "display_data"
        },
        {
          "data": {
            "application/vnd.jupyter.widget-view+json": {
              "model_id": "318cbbaed1704fe8b1ec8faa91fab701",
              "version_major": 2,
              "version_minor": 0
            },
            "text/plain": [
              "tokenizer_config.json:   0%|          | 0.00/163 [00:00<?, ?B/s]"
            ]
          },
          "metadata": {},
          "output_type": "display_data"
        },
        {
          "data": {
            "application/vnd.jupyter.widget-view+json": {
              "model_id": "ffc40aec00594e58b37e71e423ef22b7",
              "version_major": 2,
              "version_minor": 0
            },
            "text/plain": [
              "config.json:   0%|          | 0.00/1.60k [00:00<?, ?B/s]"
            ]
          },
          "metadata": {},
          "output_type": "display_data"
        },
        {
          "data": {
            "application/vnd.jupyter.widget-view+json": {
              "model_id": "c6276263de98402aa600adbb7c5edb95",
              "version_major": 2,
              "version_minor": 0
            },
            "text/plain": [
              "vocab.json:   0%|          | 0.00/291 [00:00<?, ?B/s]"
            ]
          },
          "metadata": {},
          "output_type": "display_data"
        },
        {
          "data": {
            "application/vnd.jupyter.widget-view+json": {
              "model_id": "2e5dc2b263d44c5497093dc711f967ff",
              "version_major": 2,
              "version_minor": 0
            },
            "text/plain": [
              "special_tokens_map.json:   0%|          | 0.00/85.0 [00:00<?, ?B/s]"
            ]
          },
          "metadata": {},
          "output_type": "display_data"
        },
        {
          "data": {
            "application/vnd.jupyter.widget-view+json": {
              "model_id": "ab1a3ee0782f4b9988a65bd1b0fb78b3",
              "version_major": 2,
              "version_minor": 0
            },
            "text/plain": [
              "model.safetensors:   0%|          | 0.00/378M [00:00<?, ?B/s]"
            ]
          },
          "metadata": {},
          "output_type": "display_data"
        },
        {
          "name": "stderr",
          "output_type": "stream",
          "text": [
            "Some weights of Wav2Vec2Model were not initialized from the model checkpoint at facebook/wav2vec2-base-960h and are newly initialized: ['wav2vec2.encoder.pos_conv_embed.conv.parametrizations.weight.original0', 'wav2vec2.encoder.pos_conv_embed.conv.parametrizations.weight.original1', 'wav2vec2.masked_spec_embed']\n",
            "You should probably TRAIN this model on a down-stream task to be able to use it for predictions and inference.\n"
          ]
        },
        {
          "name": "stdout",
          "output_type": "stream",
          "text": [
            "\n",
            "Results:\n",
            "\n",
            "Mean Accuracy Score: 81.39%\n",
            "Mean Sensitivity (Recall): 0.50\n",
            "Mean Specificity: 0.90\n",
            "Mean Precision: 0.55\n",
            "Mean F1 Score: 0.52\n",
            "UAR: 0.70\n",
            "\n"
          ]
        },
        {
          "data": {
            "image/png": "[encoded data removed]",
            "text/plain": [
              "<Figure size 1000x700 with 2 Axes>"
            ]
          },
          "metadata": {},
          "output_type": "display_data"
        }
      ],
      "source": [
        "import pandas as pd\n",
        "import numpy as np\n",
        "import os\n",
        "from scipy.io import wavfile\n",
        "import seaborn as sns\n",
        "import matplotlib.pyplot as plt\n",
        "from sklearn.model_selection import StratifiedKFold\n",
        "from sklearn.svm import SVC\n",
        "from sklearn.metrics import accuracy_score, confusion_matrix, precision_score, recall_score, f1_score\n",
        "from sklearn.preprocessing import StandardScaler\n",
        "import torch\n",
        "from transformers import Wav2Vec2Processor, Wav2Vec2Model\n",
        "\n",
        "# Function to load audio files from a specified folder\n",
        "def load_audio_files(file_list):\n",
        "    audio_data = []\n",
        "    record_names = []\n",
        "    min_length = float('inf')\n",
        "    for file_path in file_list:\n",
        "        sr, y = wavfile.read(file_path)  # Load the audio file\n",
        "        audio_data.append(y)\n",
        "        record_name = os.path.splitext(os.path.basename(file_path))[0]  # Extract the record name\n",
        "        record_names.append(record_name)\n",
        "        min_length = min(min_length, len(y))\n",
        "    # Trim all audio files to the minimum length\n",
        "    audio_data = [audio[:min_length] for audio in audio_data]\n",
        "    return np.array(audio_data), record_names, sr\n",
        "\n",
        "# Function to normalize audio data using z-score\n",
        "def z_score_normalize_audio_data(audio_data):\n",
        "    normalized_audio = []\n",
        "    for signal in audio_data:\n",
        "        mean_val = np.mean(signal)\n",
        "        std_val = np.std(signal)\n",
        "        if std_val == 0:\n",
        "            normalized_signal = signal - mean_val\n",
        "        else:\n",
        "            normalized_signal = (signal - mean_val) / std_val\n",
        "        normalized_audio.append(normalized_signal)\n",
        "    return np.array(normalized_audio)\n",
        "\n",
        "# Function to extract features using Wav2Vec2.0\n",
        "def extract_features_wav2vec(audio_data, processor, model, device):\n",
        "    features = []\n",
        "    for signal in audio_data:\n",
        "        inputs = processor(signal, return_tensors='pt', sampling_rate=16000).input_values.to(device)\n",
        "        with torch.no_grad():\n",
        "            outputs = model(inputs).last_hidden_state\n",
        "        features.append(outputs.squeeze(0).mean(dim=0).cpu().numpy())\n",
        "    return np.array(features)\n",
        "\n",
        "# Load the Excel file and process all sheets\n",
        "excel_path = '/content/PMEA_37_12_2181_OnlineAppendix.xlsx'\n",
        "sheets_dict = pd.read_excel(excel_path, sheet_name=None)\n",
        "\n",
        "# Combine all sheets into a single DataFrame\n",
        "df_combined = pd.concat(sheets_dict.values(), ignore_index=True)\n",
        "\n",
        "# Normalize and prepare DataFrame\n",
        "df_combined['Record name'] = df_combined['Record name'].str.strip().str.lower()\n",
        "\n",
        "# Define the folder path containing the audio files\n",
        "folder_path = '/content/drive/MyDrive/PCGtraining'\n",
        "subfolders = sorted([f.path for f in os.scandir(folder_path) if f.is_dir()])\n",
        "\n",
        "# Get a list of all .wav files in the subfolders in the desired order\n",
        "audio_files = []\n",
        "for subfolder in subfolders:\n",
        "    audio_files.extend([os.path.join(subfolder, file) for file in os.listdir(subfolder) if file.endswith('.wav')])\n",
        "\n",
        "# Load audio data\n",
        "audio_data, record_names_loaded, sample_rate = load_audio_files(audio_files)\n",
        "\n",
        "# Extract a fixed duration of audio (e.g., 5.0 seconds)\n",
        "duration = 5.0\n",
        "num_samples = int(duration * sample_rate)\n",
        "audio_data = np.array([signal[:num_samples] for signal in audio_data])\n",
        "\n",
        "# Z-normalize the audio data\n",
        "audio_data_norm = z_score_normalize_audio_data(audio_data)\n",
        "\n",
        "# Load Wav2Vec2.0 model and processor\n",
        "processor = Wav2Vec2Processor.from_pretrained(\"facebook/wav2vec2-base-960h\")\n",
        "model = Wav2Vec2Model.from_pretrained(\"facebook/wav2vec2-base-960h\")\n",
        "device = torch.device('cuda' if torch.cuda.is_available() else 'cpu')\n",
        "model.to(device)\n",
        "\n",
        "# Extract features using Wav2Vec2.0\n",
        "features = extract_features_wav2vec(audio_data_norm, processor, model, device)\n",
        "\n",
        "# Create a DataFrame for features with record names and types\n",
        "df_features = pd.DataFrame(features)\n",
        "df_features['Record Name'] = record_names_loaded\n",
        "\n",
        "# Match 'Record Name' with 'Record name' in df_combined, using a lowercase, stripped comparison\n",
        "df_features['Type (-1=normal 1=abnormal)'] = df_combined.set_index('Record name').loc[df_features['Record Name'].str.strip().str.lower()]['Type (-1=normal 1=abnormal)'].values\n",
        "\n",
        "# Sort DataFrame by 'Record Name' in ascending order and reset index\n",
        "df_features_sorted = df_features.sort_values(by='Record Name').reset_index(drop=True)\n",
        "\n",
        "# # Print the sorted DataFrame\n",
        "# print(df_features_sorted.to_string())\n",
        "\n",
        "# Initialize the scaler for feature standardization\n",
        "scaler = StandardScaler()\n",
        "\n",
        "# Apply k-fold cross-validation\n",
        "kfold = StratifiedKFold(n_splits=5, shuffle=True, random_state=42)\n",
        "\n",
        "# Initialize SVM classifier\n",
        "svm_classifier = SVC(kernel='linear')\n",
        "\n",
        "# Separate features and labels\n",
        "X = df_features_sorted.drop(columns=['Record Name', 'Type (-1=normal 1=abnormal)']).values\n",
        "y = df_features_sorted['Type (-1=normal 1=abnormal)'].values\n",
        "\n",
        "# d= pd.DataFrame(X)\n",
        "# print(d.to_string())\n",
        "# print(y)\n",
        "\n",
        "# Fit the scaler on the data and transform\n",
        "standardized_data = scaler.fit_transform(X)\n",
        "\n",
        "# Store results for each fold\n",
        "conf_matrices = []\n",
        "accuracies = []\n",
        "sensitivities = []\n",
        "specificities = []\n",
        "precisions = []\n",
        "f1_scores = []\n",
        "\n",
        "# Perform k-fold cross-validation manually\n",
        "for train_index, test_index in kfold.split(standardized_data, y):\n",
        "    X_train, X_test = standardized_data[train_index], standardized_data[test_index]\n",
        "    y_train, y_test = y[train_index], y[test_index]\n",
        "\n",
        "    svm_classifier.fit(X_train, y_train)\n",
        "    y_pred = svm_classifier.predict(X_test)\n",
        "\n",
        "    # Compute confusion matrix\n",
        "    conf_matrix = confusion_matrix(y_test, y_pred)\n",
        "    conf_matrices.append(conf_matrix)\n",
        "\n",
        "    # Calculate metrics\n",
        "    accuracy = accuracy_score(y_test, y_pred)\n",
        "    sensitivity = recall_score(y_test, y_pred)\n",
        "    tn, fp, fn, tp = conf_matrix.ravel()\n",
        "    specificity = tn / (tn + fp)\n",
        "    precision = precision_score(y_test, y_pred)\n",
        "    f1 = f1_score(y_test, y_pred)\n",
        "\n",
        "    accuracies.append(accuracy)\n",
        "    sensitivities.append(sensitivity)\n",
        "    specificities.append(specificity)\n",
        "    precisions.append(precision)\n",
        "    f1_scores.append(f1)\n",
        "\n",
        "# Calculate and display the mean metrics\n",
        "mean_accuracy = np.mean(accuracies)\n",
        "mean_sensitivity = np.mean(sensitivities)\n",
        "mean_specificity = np.mean(specificities)\n",
        "mean_precision = np.mean(precisions)\n",
        "mean_f1_score = np.mean(f1_scores)\n",
        "uar = (mean_sensitivity + mean_specificity) / 2\n",
        "\n",
        "print()\n",
        "print(\"Results:\")\n",
        "print()\n",
        "print(f\"Mean Accuracy Score: {mean_accuracy * 100:.2f}%\")\n",
        "print(f\"Mean Sensitivity (Recall): {mean_sensitivity:.2f}\")\n",
        "print(f\"Mean Specificity: {mean_specificity:.2f}\")\n",
        "print(f\"Mean Precision: {mean_precision:.2f}\")\n",
        "print(f\"Mean F1 Score: {mean_f1_score:.2f}\")\n",
        "print(f\"UAR: {uar:.2f}\")\n",
        "\n",
        "# Display the overall confusion matrix\n",
        "overall_conf_matrix = np.mean(conf_matrices, axis=0)\n",
        "print()\n",
        "plt.figure(figsize=(10, 7))\n",
        "sns.heatmap(overall_conf_matrix, annot=True, fmt='.0f', cmap='Blues', xticklabels=['Normal', 'Abnormal'], yticklabels=['Normal', 'Abnormal'])\n",
        "plt.xlabel('Predicted Label')\n",
        "plt.ylabel('True Label')\n",
        "plt.title('Overall Confusion Matrix')\n",
        "plt.show()"
      ]
    }
  ],
  "metadata": {
    "accelerator": "GPU",
    "colab": {
      "gpuType": "T4",
      "provenance": [],
      "toc_visible": true,
      "authorship_tag": "ABX9TyNQSOVjRZo8a+bm0NRGqJUZ",
      "include_colab_link": true
    },
    "kernelspec": {
      "display_name": "Python 3",
      "name": "python3"
    },
    "language_info": {
      "name": "python"
    }
  },
  "nbformat": 4,
  "nbformat_minor": 0
}